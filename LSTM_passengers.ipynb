{
 "cells": [
  {
   "cell_type": "code",
   "execution_count": 1,
   "id": "8a5d08cd",
   "metadata": {},
   "outputs": [
    {
     "name": "stdout",
     "output_type": "stream",
     "text": [
      "WARNING:tensorflow:From C:\\Users\\Lecturer\\anaconda3\\Lib\\site-packages\\keras\\src\\losses.py:2976: The name tf.losses.sparse_softmax_cross_entropy is deprecated. Please use tf.compat.v1.losses.sparse_softmax_cross_entropy instead.\n",
      "\n"
     ]
    }
   ],
   "source": [
    "# LSTM for international airline passengers problem with regression framing\n",
    "import numpy as np\n",
    "import matplotlib.pyplot as plt\n",
    "from pandas import read_csv\n",
    "import math\n",
    "import tensorflow as tf\n",
    "from tensorflow.keras.models import Sequential\n",
    "from tensorflow.keras.layers import Dense\n",
    "from tensorflow.keras.layers import LSTM\n",
    "from sklearn.preprocessing import MinMaxScaler\n",
    "from sklearn.metrics import mean_squared_error"
   ]
  },
  {
   "cell_type": "code",
   "execution_count": 2,
   "id": "00b0c95c",
   "metadata": {},
   "outputs": [],
   "source": [
    "# convert an array of values into a dataset matrix\n",
    "def create_dataset(dataset, look_back=1):\n",
    "\tdataX, dataY = [], []\n",
    "\tfor i in range(len(dataset)-look_back-1):\n",
    "\t\ta = dataset[i:(i+look_back), 0]\n",
    "\t\tdataX.append(a)\n",
    "\t\tdataY.append(dataset[i + look_back, 0])\n",
    "\treturn np.array(dataX), np.array(dataY)\n"
   ]
  },
  {
   "cell_type": "code",
   "execution_count": 3,
   "id": "27b43911",
   "metadata": {},
   "outputs": [],
   "source": [
    "# fix random seed for reproducibility\n",
    "tf.random.set_seed(7)\n",
    "# load the dataset\n",
    "dataframe = read_csv('airline-passengers.csv', usecols=[1])\n",
    "dataset = dataframe.values\n",
    "dataset = dataset.astype('float32')\n"
   ]
  },
  {
   "cell_type": "code",
   "execution_count": 4,
   "id": "a53f3206",
   "metadata": {},
   "outputs": [],
   "source": [
    "# normalize the dataset\n",
    "scaler = MinMaxScaler(feature_range=(0, 1))\n",
    "dataset = scaler.fit_transform(dataset)\n"
   ]
  },
  {
   "cell_type": "code",
   "execution_count": 5,
   "id": "2bc0f582",
   "metadata": {},
   "outputs": [],
   "source": [
    "# split into train and test sets\n",
    "train_size = int(len(dataset) * 0.67)\n",
    "test_size = len(dataset) - train_size\n",
    "train, test = dataset[0:train_size,:], dataset[train_size:len(dataset),:]\n"
   ]
  },
  {
   "cell_type": "code",
   "execution_count": 6,
   "id": "23096cbd",
   "metadata": {},
   "outputs": [],
   "source": [
    "# reshape into X=t and Y=t+1\n",
    "look_back = 1\n",
    "trainX, trainY = create_dataset(train, look_back)\n",
    "testX, testY = create_dataset(test, look_back)"
   ]
  },
  {
   "cell_type": "code",
   "execution_count": 7,
   "id": "d16ea848",
   "metadata": {},
   "outputs": [],
   "source": [
    "# reshape input to be [samples, time steps, features]\n",
    "trainX = np.reshape(trainX, (trainX.shape[0], 1, trainX.shape[1]))\n",
    "testX = np.reshape(testX, (testX.shape[0], 1, testX.shape[1]))\n"
   ]
  },
  {
   "cell_type": "code",
   "execution_count": 8,
   "id": "0328a7e0",
   "metadata": {},
   "outputs": [
    {
     "name": "stdout",
     "output_type": "stream",
     "text": [
      "WARNING:tensorflow:From C:\\Users\\Lecturer\\anaconda3\\Lib\\site-packages\\keras\\src\\backend.py:873: The name tf.get_default_graph is deprecated. Please use tf.compat.v1.get_default_graph instead.\n",
      "\n",
      "WARNING:tensorflow:From C:\\Users\\Lecturer\\anaconda3\\Lib\\site-packages\\keras\\src\\optimizers\\__init__.py:309: The name tf.train.Optimizer is deprecated. Please use tf.compat.v1.train.Optimizer instead.\n",
      "\n",
      "Epoch 1/100\n",
      "WARNING:tensorflow:From C:\\Users\\Lecturer\\anaconda3\\Lib\\site-packages\\keras\\src\\utils\\tf_utils.py:492: The name tf.ragged.RaggedTensorValue is deprecated. Please use tf.compat.v1.ragged.RaggedTensorValue instead.\n",
      "\n",
      "94/94 - 2s - loss: 0.0350 - 2s/epoch - 20ms/step\n",
      "Epoch 2/100\n",
      "94/94 - 0s - loss: 0.0166 - 154ms/epoch - 2ms/step\n",
      "Epoch 3/100\n",
      "94/94 - 0s - loss: 0.0131 - 155ms/epoch - 2ms/step\n",
      "Epoch 4/100\n",
      "94/94 - 0s - loss: 0.0121 - 147ms/epoch - 2ms/step\n",
      "Epoch 5/100\n",
      "94/94 - 0s - loss: 0.0111 - 142ms/epoch - 2ms/step\n",
      "Epoch 6/100\n",
      "94/94 - 0s - loss: 0.0099 - 158ms/epoch - 2ms/step\n",
      "Epoch 7/100\n",
      "94/94 - 0s - loss: 0.0089 - 197ms/epoch - 2ms/step\n",
      "Epoch 8/100\n",
      "94/94 - 0s - loss: 0.0078 - 207ms/epoch - 2ms/step\n",
      "Epoch 9/100\n",
      "94/94 - 0s - loss: 0.0070 - 177ms/epoch - 2ms/step\n",
      "Epoch 10/100\n",
      "94/94 - 0s - loss: 0.0059 - 144ms/epoch - 2ms/step\n",
      "Epoch 11/100\n",
      "94/94 - 0s - loss: 0.0051 - 139ms/epoch - 1ms/step\n",
      "Epoch 12/100\n",
      "94/94 - 0s - loss: 0.0043 - 162ms/epoch - 2ms/step\n",
      "Epoch 13/100\n",
      "94/94 - 0s - loss: 0.0037 - 152ms/epoch - 2ms/step\n",
      "Epoch 14/100\n",
      "94/94 - 0s - loss: 0.0032 - 150ms/epoch - 2ms/step\n",
      "Epoch 15/100\n",
      "94/94 - 0s - loss: 0.0028 - 156ms/epoch - 2ms/step\n",
      "Epoch 16/100\n",
      "94/94 - 0s - loss: 0.0026 - 144ms/epoch - 2ms/step\n",
      "Epoch 17/100\n",
      "94/94 - 0s - loss: 0.0023 - 148ms/epoch - 2ms/step\n",
      "Epoch 18/100\n",
      "94/94 - 0s - loss: 0.0021 - 157ms/epoch - 2ms/step\n",
      "Epoch 19/100\n",
      "94/94 - 0s - loss: 0.0022 - 153ms/epoch - 2ms/step\n",
      "Epoch 20/100\n",
      "94/94 - 0s - loss: 0.0021 - 145ms/epoch - 2ms/step\n",
      "Epoch 21/100\n",
      "94/94 - 0s - loss: 0.0020 - 155ms/epoch - 2ms/step\n",
      "Epoch 22/100\n",
      "94/94 - 0s - loss: 0.0020 - 154ms/epoch - 2ms/step\n",
      "Epoch 23/100\n",
      "94/94 - 0s - loss: 0.0020 - 153ms/epoch - 2ms/step\n",
      "Epoch 24/100\n",
      "94/94 - 0s - loss: 0.0020 - 150ms/epoch - 2ms/step\n",
      "Epoch 25/100\n",
      "94/94 - 0s - loss: 0.0021 - 158ms/epoch - 2ms/step\n",
      "Epoch 26/100\n",
      "94/94 - 0s - loss: 0.0020 - 154ms/epoch - 2ms/step\n",
      "Epoch 27/100\n",
      "94/94 - 0s - loss: 0.0020 - 150ms/epoch - 2ms/step\n",
      "Epoch 28/100\n",
      "94/94 - 0s - loss: 0.0020 - 152ms/epoch - 2ms/step\n",
      "Epoch 29/100\n",
      "94/94 - 0s - loss: 0.0021 - 143ms/epoch - 2ms/step\n",
      "Epoch 30/100\n",
      "94/94 - 0s - loss: 0.0020 - 163ms/epoch - 2ms/step\n",
      "Epoch 31/100\n",
      "94/94 - 0s - loss: 0.0020 - 153ms/epoch - 2ms/step\n",
      "Epoch 32/100\n",
      "94/94 - 0s - loss: 0.0021 - 149ms/epoch - 2ms/step\n",
      "Epoch 33/100\n",
      "94/94 - 0s - loss: 0.0021 - 146ms/epoch - 2ms/step\n",
      "Epoch 34/100\n",
      "94/94 - 0s - loss: 0.0020 - 158ms/epoch - 2ms/step\n",
      "Epoch 35/100\n",
      "94/94 - 0s - loss: 0.0021 - 144ms/epoch - 2ms/step\n",
      "Epoch 36/100\n",
      "94/94 - 0s - loss: 0.0020 - 180ms/epoch - 2ms/step\n",
      "Epoch 37/100\n",
      "94/94 - 0s - loss: 0.0021 - 152ms/epoch - 2ms/step\n",
      "Epoch 38/100\n",
      "94/94 - 0s - loss: 0.0020 - 165ms/epoch - 2ms/step\n",
      "Epoch 39/100\n",
      "94/94 - 0s - loss: 0.0020 - 153ms/epoch - 2ms/step\n",
      "Epoch 40/100\n",
      "94/94 - 0s - loss: 0.0020 - 158ms/epoch - 2ms/step\n",
      "Epoch 41/100\n",
      "94/94 - 0s - loss: 0.0020 - 150ms/epoch - 2ms/step\n",
      "Epoch 42/100\n",
      "94/94 - 0s - loss: 0.0020 - 152ms/epoch - 2ms/step\n",
      "Epoch 43/100\n",
      "94/94 - 0s - loss: 0.0020 - 156ms/epoch - 2ms/step\n",
      "Epoch 44/100\n",
      "94/94 - 0s - loss: 0.0020 - 155ms/epoch - 2ms/step\n",
      "Epoch 45/100\n",
      "94/94 - 0s - loss: 0.0021 - 146ms/epoch - 2ms/step\n",
      "Epoch 46/100\n",
      "94/94 - 0s - loss: 0.0019 - 155ms/epoch - 2ms/step\n",
      "Epoch 47/100\n",
      "94/94 - 0s - loss: 0.0020 - 154ms/epoch - 2ms/step\n",
      "Epoch 48/100\n",
      "94/94 - 0s - loss: 0.0021 - 156ms/epoch - 2ms/step\n",
      "Epoch 49/100\n",
      "94/94 - 0s - loss: 0.0020 - 144ms/epoch - 2ms/step\n",
      "Epoch 50/100\n",
      "94/94 - 0s - loss: 0.0020 - 157ms/epoch - 2ms/step\n",
      "Epoch 51/100\n",
      "94/94 - 0s - loss: 0.0020 - 157ms/epoch - 2ms/step\n",
      "Epoch 52/100\n",
      "94/94 - 0s - loss: 0.0020 - 154ms/epoch - 2ms/step\n",
      "Epoch 53/100\n",
      "94/94 - 0s - loss: 0.0020 - 151ms/epoch - 2ms/step\n",
      "Epoch 54/100\n",
      "94/94 - 0s - loss: 0.0020 - 179ms/epoch - 2ms/step\n",
      "Epoch 55/100\n",
      "94/94 - 0s - loss: 0.0020 - 184ms/epoch - 2ms/step\n",
      "Epoch 56/100\n",
      "94/94 - 0s - loss: 0.0020 - 183ms/epoch - 2ms/step\n",
      "Epoch 57/100\n",
      "94/94 - 0s - loss: 0.0020 - 175ms/epoch - 2ms/step\n",
      "Epoch 58/100\n",
      "94/94 - 0s - loss: 0.0020 - 151ms/epoch - 2ms/step\n",
      "Epoch 59/100\n",
      "94/94 - 0s - loss: 0.0020 - 174ms/epoch - 2ms/step\n",
      "Epoch 60/100\n",
      "94/94 - 0s - loss: 0.0020 - 184ms/epoch - 2ms/step\n",
      "Epoch 61/100\n",
      "94/94 - 0s - loss: 0.0020 - 151ms/epoch - 2ms/step\n",
      "Epoch 62/100\n",
      "94/94 - 0s - loss: 0.0021 - 145ms/epoch - 2ms/step\n",
      "Epoch 63/100\n",
      "94/94 - 0s - loss: 0.0020 - 178ms/epoch - 2ms/step\n",
      "Epoch 64/100\n",
      "94/94 - 0s - loss: 0.0020 - 186ms/epoch - 2ms/step\n",
      "Epoch 65/100\n",
      "94/94 - 0s - loss: 0.0020 - 161ms/epoch - 2ms/step\n",
      "Epoch 66/100\n",
      "94/94 - 0s - loss: 0.0020 - 167ms/epoch - 2ms/step\n",
      "Epoch 67/100\n",
      "94/94 - 0s - loss: 0.0021 - 170ms/epoch - 2ms/step\n",
      "Epoch 68/100\n",
      "94/94 - 0s - loss: 0.0020 - 175ms/epoch - 2ms/step\n",
      "Epoch 69/100\n",
      "94/94 - 0s - loss: 0.0020 - 150ms/epoch - 2ms/step\n",
      "Epoch 70/100\n",
      "94/94 - 0s - loss: 0.0020 - 184ms/epoch - 2ms/step\n",
      "Epoch 71/100\n",
      "94/94 - 0s - loss: 0.0020 - 185ms/epoch - 2ms/step\n",
      "Epoch 72/100\n",
      "94/94 - 0s - loss: 0.0020 - 153ms/epoch - 2ms/step\n",
      "Epoch 73/100\n",
      "94/94 - 0s - loss: 0.0020 - 173ms/epoch - 2ms/step\n",
      "Epoch 74/100\n",
      "94/94 - 0s - loss: 0.0021 - 177ms/epoch - 2ms/step\n",
      "Epoch 75/100\n",
      "94/94 - 0s - loss: 0.0020 - 155ms/epoch - 2ms/step\n",
      "Epoch 76/100\n",
      "94/94 - 0s - loss: 0.0020 - 162ms/epoch - 2ms/step\n",
      "Epoch 77/100\n",
      "94/94 - 0s - loss: 0.0020 - 166ms/epoch - 2ms/step\n",
      "Epoch 78/100\n",
      "94/94 - 0s - loss: 0.0020 - 156ms/epoch - 2ms/step\n",
      "Epoch 79/100\n",
      "94/94 - 0s - loss: 0.0020 - 149ms/epoch - 2ms/step\n",
      "Epoch 80/100\n",
      "94/94 - 0s - loss: 0.0020 - 161ms/epoch - 2ms/step\n",
      "Epoch 81/100\n",
      "94/94 - 0s - loss: 0.0019 - 176ms/epoch - 2ms/step\n",
      "Epoch 82/100\n",
      "94/94 - 0s - loss: 0.0021 - 162ms/epoch - 2ms/step\n",
      "Epoch 83/100\n",
      "94/94 - 0s - loss: 0.0020 - 150ms/epoch - 2ms/step\n",
      "Epoch 84/100\n",
      "94/94 - 0s - loss: 0.0019 - 170ms/epoch - 2ms/step\n",
      "Epoch 85/100\n",
      "94/94 - 0s - loss: 0.0020 - 170ms/epoch - 2ms/step\n",
      "Epoch 86/100\n",
      "94/94 - 0s - loss: 0.0020 - 179ms/epoch - 2ms/step\n",
      "Epoch 87/100\n",
      "94/94 - 0s - loss: 0.0021 - 160ms/epoch - 2ms/step\n",
      "Epoch 88/100\n",
      "94/94 - 0s - loss: 0.0020 - 183ms/epoch - 2ms/step\n",
      "Epoch 89/100\n",
      "94/94 - 0s - loss: 0.0020 - 157ms/epoch - 2ms/step\n",
      "Epoch 90/100\n",
      "94/94 - 0s - loss: 0.0020 - 140ms/epoch - 1ms/step\n",
      "Epoch 91/100\n",
      "94/94 - 0s - loss: 0.0020 - 169ms/epoch - 2ms/step\n",
      "Epoch 92/100\n",
      "94/94 - 0s - loss: 0.0020 - 173ms/epoch - 2ms/step\n",
      "Epoch 93/100\n",
      "94/94 - 0s - loss: 0.0020 - 148ms/epoch - 2ms/step\n",
      "Epoch 94/100\n",
      "94/94 - 0s - loss: 0.0020 - 160ms/epoch - 2ms/step\n",
      "Epoch 95/100\n",
      "94/94 - 0s - loss: 0.0021 - 176ms/epoch - 2ms/step\n",
      "Epoch 96/100\n",
      "94/94 - 0s - loss: 0.0020 - 154ms/epoch - 2ms/step\n",
      "Epoch 97/100\n",
      "94/94 - 0s - loss: 0.0020 - 152ms/epoch - 2ms/step\n",
      "Epoch 98/100\n",
      "94/94 - 0s - loss: 0.0020 - 159ms/epoch - 2ms/step\n",
      "Epoch 99/100\n",
      "94/94 - 0s - loss: 0.0020 - 152ms/epoch - 2ms/step\n",
      "Epoch 100/100\n",
      "94/94 - 0s - loss: 0.0020 - 140ms/epoch - 1ms/step\n"
     ]
    },
    {
     "data": {
      "text/plain": [
       "<keras.src.callbacks.History at 0x296905e1990>"
      ]
     },
     "execution_count": 8,
     "metadata": {},
     "output_type": "execute_result"
    }
   ],
   "source": [
    "# create and fit the LSTM network\n",
    "model = Sequential()\n",
    "model.add(LSTM(4, input_shape=(1, look_back)))\n",
    "model.add(Dense(1))\n",
    "model.compile(loss='mean_squared_error', optimizer='adam')\n",
    "model.fit(trainX, trainY, epochs=100, batch_size=1, verbose=2)\n"
   ]
  },
  {
   "cell_type": "code",
   "execution_count": 9,
   "id": "83aca90a",
   "metadata": {},
   "outputs": [
    {
     "name": "stdout",
     "output_type": "stream",
     "text": [
      "3/3 [==============================] - 0s 3ms/step\n",
      "2/2 [==============================] - 0s 7ms/step\n"
     ]
    }
   ],
   "source": [
    "# make predictions\n",
    "trainPredict = model.predict(trainX)\n",
    "testPredict = model.predict(testX)\n"
   ]
  },
  {
   "cell_type": "code",
   "execution_count": 10,
   "id": "956d92aa",
   "metadata": {},
   "outputs": [],
   "source": [
    "# invert predictions\n",
    "trainPredict = scaler.inverse_transform(trainPredict)\n",
    "trainY = scaler.inverse_transform([trainY])\n",
    "testPredict = scaler.inverse_transform(testPredict)\n",
    "testY = scaler.inverse_transform([testY])\n"
   ]
  },
  {
   "cell_type": "code",
   "execution_count": 11,
   "id": "c22165c1",
   "metadata": {},
   "outputs": [
    {
     "name": "stdout",
     "output_type": "stream",
     "text": [
      "Train Score: 22.67 RMSE\n",
      "Test Score: 48.85 RMSE\n"
     ]
    }
   ],
   "source": [
    "# calculate root mean squared error\n",
    "trainScore = np.sqrt(mean_squared_error(trainY[0], trainPredict[:,0]))\n",
    "print('Train Score: %.2f RMSE' % (trainScore))\n",
    "testScore = np.sqrt(mean_squared_error(testY[0], testPredict[:,0]))\n",
    "print('Test Score: %.2f RMSE' % (testScore))\n"
   ]
  },
  {
   "cell_type": "code",
   "execution_count": 12,
   "id": "c91e5019",
   "metadata": {},
   "outputs": [],
   "source": [
    "# shift train predictions for plotting\n",
    "trainPredictPlot = np.empty_like(dataset)\n",
    "trainPredictPlot[:, :] = np.nan\n",
    "trainPredictPlot[look_back:len(trainPredict)+look_back, :] = trainPredict\n"
   ]
  },
  {
   "cell_type": "code",
   "execution_count": 13,
   "id": "ba5ace7a",
   "metadata": {},
   "outputs": [],
   "source": [
    "# shift test predictions for plotting\n",
    "testPredictPlot = np.empty_like(dataset)\n",
    "testPredictPlot[:, :] = np.nan\n",
    "testPredictPlot[len(trainPredict)+(look_back*2)+1:len(dataset)-1, :] = testPredict\n"
   ]
  },
  {
   "cell_type": "code",
   "execution_count": 14,
   "id": "8317f1af",
   "metadata": {},
   "outputs": [
    {
     "data": {
      "image/png": "[encoded data removed]",
      "text/plain": [
       "<Figure size 640x480 with 1 Axes>"
      ]
     },
     "metadata": {},
     "output_type": "display_data"
    }
   ],
   "source": [
    "# plot baseline and predictions\n",
    "plt.plot(scaler.inverse_transform(dataset))\n",
    "plt.plot(trainPredictPlot)\n",
    "plt.plot(testPredictPlot)\n",
    "plt.show()"
   ]
  },
  {
   "cell_type": "code",
   "execution_count": null,
   "id": "42128351",
   "metadata": {},
   "outputs": [],
   "source": []
  }
 ],
 "metadata": {
  "kernelspec": {
   "display_name": "Python 3 (ipykernel)",
   "language": "python",
   "name": "python3"
  },
  "language_info": {
   "codemirror_mode": {
    "name": "ipython",
    "version": 3
   },
   "file_extension": ".py",
   "mimetype": "text/x-python",
   "name": "python",
   "nbconvert_exporter": "python",
   "pygments_lexer": "ipython3",
   "version": "3.11.4"
  }
 },
 "nbformat": 4,
 "nbformat_minor": 5
}
